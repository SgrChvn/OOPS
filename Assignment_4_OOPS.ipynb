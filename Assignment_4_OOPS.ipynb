{
  "nbformat": 4,
  "nbformat_minor": 0,
  "metadata": {
    "colab": {
      "provenance": []
    },
    "kernelspec": {
      "name": "python3",
      "display_name": "Python 3"
    },
    "language_info": {
      "name": "python"
    }
  },
  "cells": [
    {
      "cell_type": "markdown",
      "source": [
        "**1] What are the five key concepts of Object-Oriented Programming (OOP)?**\n",
        "\n",
        "* Encapsulation: Wrapping data\n",
        "(attributes) and methods (functions) into a single unit (class).\n",
        "\n",
        "* Abstraction: Hiding the complex implementation details and showing only the functionality to the user.\n",
        "\n",
        "* Inheritance: One class can inherit the properties and methods of another class.\n",
        "\n",
        "* Polymorphism: The ability of different classes to respond to the same method in different ways.\n",
        "\n",
        "* Class and Object: Objects are instances of classes that have properties and methods defined by the class."
      ],
      "metadata": {
        "id": "0CRNAMtvh8Qx"
      }
    },
    {
      "cell_type": "markdown",
      "source": [
        "**2] Write a Python class for a Car with attributes for make, model, and year. Include a method to display the car's information.**"
      ],
      "metadata": {
        "id": "4k8Hi4lvirrK"
      }
    },
    {
      "cell_type": "code",
      "source": [
        "class Car:\n",
        "    def __init__(self, make, model, year):\n",
        "        self.make = make\n",
        "        self.model = model\n",
        "        self.year = year\n",
        "\n",
        "    def display_info(self):\n",
        "        print(f\"Car: {self.year} {self.make} {self.model}\")\n",
        "\n",
        "car = Car(\"Toyota\", \"Corolla\", 2020)\n",
        "car.display_info()\n"
      ],
      "metadata": {
        "colab": {
          "base_uri": "https://localhost:8080/"
        },
        "id": "hCJzPbr8iyEQ",
        "outputId": "e442ab95-ff97-4b37-ab95-c1d2ee548403"
      },
      "execution_count": null,
      "outputs": [
        {
          "output_type": "stream",
          "name": "stdout",
          "text": [
            "Car: 2020 Toyota Corolla\n"
          ]
        }
      ]
    },
    {
      "cell_type": "markdown",
      "source": [
        "**3] Explain the difference between instance methods and class methods. Provide an example of each.**"
      ],
      "metadata": {
        "id": "Bvr_Ipami-2y"
      }
    },
    {
      "cell_type": "markdown",
      "source": [
        "* Instance methods: Operate on an instance of the class and can access instance attributes and methods. Example:"
      ],
      "metadata": {
        "id": "V2MHF-O1jMG4"
      }
    },
    {
      "cell_type": "code",
      "source": [
        "class MyClass:\n",
        "    def instance_method(self):\n",
        "        return 'instance method called', self"
      ],
      "metadata": {
        "id": "OeLTvsHgjK_1"
      },
      "execution_count": null,
      "outputs": []
    },
    {
      "cell_type": "markdown",
      "source": [
        "* Class methods: Are bound to the class and not the instance. They can access class variables but not instance variables. Example:"
      ],
      "metadata": {
        "id": "-hIVYVoOjT_j"
      }
    },
    {
      "cell_type": "code",
      "source": [
        "class MyClass:\n",
        "    @classmethod\n",
        "    def class_method(cls):\n",
        "        return 'class method called', cls"
      ],
      "metadata": {
        "id": "0u_q0LbGjCzv"
      },
      "execution_count": null,
      "outputs": []
    },
    {
      "cell_type": "markdown",
      "source": [
        "**4] How does Python implement method overloading? Give an example.**\n",
        "\n",
        "Python does not support traditional method overloading as in other languages, but it can be achieved using default arguments or by using variable-length arguments (*args). Example:"
      ],
      "metadata": {
        "id": "1AkzsMZujdTY"
      }
    },
    {
      "cell_type": "code",
      "source": [
        "class Example:\n",
        "    def add(self, a, b=0):\n",
        "        return a + b"
      ],
      "metadata": {
        "id": "0im7sZwqjqK9"
      },
      "execution_count": null,
      "outputs": []
    },
    {
      "cell_type": "markdown",
      "source": [
        "**5] What are the three types of access modifiers in Python? How are they denoted?**\n",
        "\n",
        "Access modifiers in Python:\n",
        "\n",
        "* Public: No underscores; accessible anywhere.\n",
        "* Protected: Single underscore _; accessible in the class and subclasses.\n",
        "* Private: Double underscore __; only accessible within the class."
      ],
      "metadata": {
        "id": "-EV_o5JAjvd0"
      }
    },
    {
      "cell_type": "markdown",
      "source": [
        "**6] Describe the five types of inheritance in Python. Provide a simple example of multiple inheritance.**\n",
        "\n",
        "*  Single inheritance: One class inherits from one parent.\n",
        "* Multiple inheritance: One class inherits from more than one parent.\n",
        "* Multilevel inheritance: A class inherits from a class that already inherits from another class.\n",
        "* Hierarchical inheritance: Multiple classes inherit from the same parent class.\n",
        "* Hybrid inheritance: A combination of multiple types of inheritance."
      ],
      "metadata": {
        "id": "mGl3fpJ2kH96"
      }
    },
    {
      "cell_type": "code",
      "source": [
        "# Multiple inheritance\n",
        "class A:\n",
        "    def method_a(self):\n",
        "        print(\"A method\")\n",
        "\n",
        "class B:\n",
        "    def method_b(self):\n",
        "        print(\"B method\")\n",
        "\n",
        "class C(A, B):\n",
        "    pass\n",
        "\n",
        "obj = C()\n",
        "obj.method_a()\n",
        "obj.method_b()\n"
      ],
      "metadata": {
        "colab": {
          "base_uri": "https://localhost:8080/"
        },
        "id": "deY8nNufkdPL",
        "outputId": "bb6bb6cc-88b1-4fcb-df62-29d93f837ea7"
      },
      "execution_count": null,
      "outputs": [
        {
          "output_type": "stream",
          "name": "stdout",
          "text": [
            "A method\n",
            "B method\n"
          ]
        }
      ]
    },
    {
      "cell_type": "markdown",
      "source": [
        "**7] What is the Method Resolution Order (MRO) in Python? How can you retrieve it programmatically?**\n",
        "\n",
        "Defines the order in which base classes are searched when a method is called. You can retrieve it using ClassName.mro() or ClassName.__mro__."
      ],
      "metadata": {
        "id": "99EE5FE1knht"
      }
    },
    {
      "cell_type": "markdown",
      "source": [
        "**8] Create an abstract base class Shape with an abstract method area(). Then create two subclasses Circle and Rectangle that implement the area() method.**"
      ],
      "metadata": {
        "id": "O1bAOddFk6Pw"
      }
    },
    {
      "cell_type": "code",
      "source": [
        "from abc import ABC, abstractmethod\n",
        "\n",
        "class Shape(ABC):\n",
        "    @abstractmethod\n",
        "    def area(self):\n",
        "        pass\n",
        "\n",
        "class Circle(Shape):\n",
        "    def __init__(self, radius):\n",
        "        self.radius = radius\n",
        "\n",
        "    def area(self):\n",
        "        return 3.14 * self.radius * self.radius\n",
        "\n",
        "class Rectangle(Shape):\n",
        "    def __init__(self, length, breadth):\n",
        "        self.length = length\n",
        "        self.breadth = breadth\n",
        "\n",
        "    def area(self):\n",
        "        return self.length * self.breadth"
      ],
      "metadata": {
        "id": "ItYyUnZIlCKl"
      },
      "execution_count": null,
      "outputs": []
    },
    {
      "cell_type": "markdown",
      "source": [
        "**9] Demonstrate polymorphism by creating a function that can work with different shape objects to calculate and print their areas.**"
      ],
      "metadata": {
        "id": "Y76MiYPKm69y"
      }
    },
    {
      "cell_type": "code",
      "source": [
        "def print_area(shape):\n",
        "    print(f\"Area: {shape.area()}\")\n",
        "\n",
        "circle = Circle(5)\n",
        "rectangle = Rectangle(4, 6)\n",
        "print_area(circle)\n",
        "print_area(rectangle)"
      ],
      "metadata": {
        "colab": {
          "base_uri": "https://localhost:8080/"
        },
        "id": "re6I1PKim_6Y",
        "outputId": "96df5953-3961-47e4-fbd7-3ea142e8be9e"
      },
      "execution_count": null,
      "outputs": [
        {
          "output_type": "stream",
          "name": "stdout",
          "text": [
            "Area: 78.5\n",
            "Area: 24\n"
          ]
        }
      ]
    },
    {
      "cell_type": "markdown",
      "source": [
        "**10] Implement encapsulation in a BankAccount class with private attributes for balance and account_number. Include methods for deposit, withdrawal, and balance inquiry.**"
      ],
      "metadata": {
        "id": "D2oLcsjXnEse"
      }
    },
    {
      "cell_type": "code",
      "source": [
        "class BankAccount:\n",
        "    def __init__(self, account_number, balance):\n",
        "        self.__account_number = account_number\n",
        "        self.__balance = balance\n",
        "\n",
        "    def deposit(self, amount):\n",
        "        self.__balance += amount\n",
        "\n",
        "    def withdraw(self, amount):\n",
        "        if amount <= self.__balance:\n",
        "            self.__balance -= amount\n",
        "\n",
        "    def get_balance(self):\n",
        "        return self.__balance"
      ],
      "metadata": {
        "id": "AdtRc8winJCO"
      },
      "execution_count": null,
      "outputs": []
    },
    {
      "cell_type": "markdown",
      "source": [
        "**11] Write a class that overrides the __str__ and __add__ magic methods. What will these methods allow you to do?**"
      ],
      "metadata": {
        "id": "wPnSNKg8nMjW"
      }
    },
    {
      "cell_type": "code",
      "source": [
        "class MyClass:\n",
        "    def __init__(self, value):\n",
        "        self.value = value\n",
        "\n",
        "    def __str__(self):\n",
        "        return f\"MyClass with value: {self.value}\"\n",
        "\n",
        "    def __add__(self, other):\n",
        "        return MyClass(self.value + other.value)\n",
        "\n",
        "obj1 = MyClass(10)\n",
        "obj2 = MyClass(20)\n",
        "obj3 = obj1 + obj2\n",
        "print(obj3)"
      ],
      "metadata": {
        "colab": {
          "base_uri": "https://localhost:8080/"
        },
        "id": "hxsOVqe6nQcI",
        "outputId": "51c04cf2-ea27-4037-bd64-f7112f7bd164"
      },
      "execution_count": null,
      "outputs": [
        {
          "output_type": "stream",
          "name": "stdout",
          "text": [
            "MyClass with value: 30\n"
          ]
        }
      ]
    },
    {
      "cell_type": "markdown",
      "source": [
        "**12] Create a decorator that measures and prints the execution time of a function.**"
      ],
      "metadata": {
        "id": "umXzagQenVA3"
      }
    },
    {
      "cell_type": "code",
      "source": [
        "import time\n",
        "\n",
        "def timer(func):\n",
        "    def wrapper(*args, **kwargs):\n",
        "        start_time = time.time()\n",
        "        result = func(*args, **kwargs)\n",
        "        end_time = time.time()\n",
        "        print(f\"Execution time: {end_time - start_time} seconds\")\n",
        "        return result\n",
        "    return wrapper"
      ],
      "metadata": {
        "id": "G8TZjL_8nZ2e"
      },
      "execution_count": null,
      "outputs": []
    },
    {
      "cell_type": "markdown",
      "source": [
        "**13] Explain the concept of the Diamond Problem in multiple inheritance. How does Python resolve it?**\n",
        "\n",
        "Occurs when a class inherits from two classes that have a common ancestor, causing ambiguity. Python resolves it using MRO to determine the method lookup path."
      ],
      "metadata": {
        "id": "uOHZSXkJnc8a"
      }
    },
    {
      "cell_type": "markdown",
      "source": [
        "**14] Write a class method that keeps track of the number of instances created from a class.**"
      ],
      "metadata": {
        "id": "lX3fsNqgnkX3"
      }
    },
    {
      "cell_type": "code",
      "source": [
        "class MyClass:\n",
        "    instance_count = 0\n",
        "\n",
        "    def __init__(self):\n",
        "        MyClass.instance_count += 1\n",
        "\n",
        "    @classmethod\n",
        "    def get_instance_count(cls):\n",
        "        return cls.instance_count"
      ],
      "metadata": {
        "id": "Rd8B1tZlngUP"
      },
      "execution_count": null,
      "outputs": []
    },
    {
      "cell_type": "markdown",
      "source": [
        "**15] Implement a static method in a class that checks if a given year is a leap year.**"
      ],
      "metadata": {
        "id": "naBIb4wMnq-h"
      }
    },
    {
      "cell_type": "code",
      "source": [
        "class Year:\n",
        "    @staticmethod\n",
        "    def is_leap_year(year):\n",
        "        if (year % 4 == 0 and year % 100 != 0) or (year % 400 == 0):\n",
        "            return True\n",
        "        return False"
      ],
      "metadata": {
        "id": "Q6fBfHednunn"
      },
      "execution_count": null,
      "outputs": []
    }
  ]
}